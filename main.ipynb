{
 "cells": [
  {
   "cell_type": "markdown",
   "id": "4b90706d",
   "metadata": {},
   "source": [
    "# Análise sobre o Tempo de Entrega\n",
    "\n",
    "A base de dados utilizada está presente em ```data/data.xlsx```\n",
    "\n",
    "A sua descrição está presente em ```data/description.txt```\n",
    "\n",
    "Autores:\n",
    "* David Joshua;\n",
    "* Gabriel Cavalcanti Araújo;\n",
    "* Gabriel Emannuel Gama Andrade."
   ]
  },
  {
   "cell_type": "markdown",
   "id": "73e3f840",
   "metadata": {},
   "source": [
    "## 1. Preparando o ambiente"
   ]
  },
  {
   "cell_type": "markdown",
   "id": "a102eb40",
   "metadata": {},
   "source": [
    "### 1.1 Baixando os pacotes Necessários \n",
    "\n",
    "Abaixo estará o download de todos os pacotes úteis para a realização da análise"
   ]
  },
  {
   "cell_type": "code",
   "execution_count": 9,
   "id": "7fb29acc",
   "metadata": {
    "vscode": {
     "languageId": "r"
    }
   },
   "outputs": [
    {
     "name": "stderr",
     "output_type": "stream",
     "text": [
      "Installing package into ‘/home/ferte/R/x86_64-pc-linux-gnu-library/4.3’\n",
      "(as ‘lib’ is unspecified)\n",
      "\n",
      "Installing package into ‘/home/ferte/R/x86_64-pc-linux-gnu-library/4.3’\n",
      "(as ‘lib’ is unspecified)\n",
      "\n",
      "\n",
      "skimr installed\n",
      "\n",
      "\n",
      "Your package installed\n",
      "\n",
      "Warning message in pacman::p_load(rio, dplyr, skimr, psych, ):\n",
      "“Failed to install/load:\n",
      "”\n"
     ]
    }
   ],
   "source": [
    "install.packages(\"pacman\")\n",
    "\n",
    "library(pacman)\n",
    "\n",
    "pacman :: p_load(\n",
    "    rio, # Importação fácil dos arquivos XLSX\n",
    "    dplyr, # Permitir diversas formas de manipulação de dados\n",
    "    skimr, # Utilização de outras formas de sumarizar os dados (Além da função built-in do R)\n",
    "    psych, # Mesmo motivo do uso da skimr, melhorando a análise da base de dados\n",
    "    )"
   ]
  },
  {
   "cell_type": "markdown",
   "id": "00cc2e70",
   "metadata": {},
   "source": [
    "### 1.2 Carregando a base de dados em memória\n",
    "\n",
    "Abaixo estará o carregamento da base de dados para a memória"
   ]
  },
  {
   "cell_type": "code",
   "execution_count": 10,
   "id": "c59b1524",
   "metadata": {
    "vscode": {
     "languageId": "r"
    }
   },
   "outputs": [],
   "source": [
    "DIRETORIO_DATA_SET <- \"data/data.xlsx\"\n",
    "\n",
    "data <- import(DIRETORIO_DATA_SET)\n",
    "\n",
    "data_numeric <- data %>% select_if(is.numeric)"
   ]
  },
  {
   "cell_type": "markdown",
   "id": "07f5889c",
   "metadata": {},
   "source": [
    "## 2. Introdução\n",
    "\n",
    "Iremos sumarizar o conjunto de dados, utilizando as funções à nossa disposição, com o fim de entender a base de dados e possíveis relacionamentos"
   ]
  },
  {
   "cell_type": "markdown",
   "id": "2a8f2453",
   "metadata": {},
   "source": [
    "### 2.1 Utilizando as funções built-in do R"
   ]
  },
  {
   "cell_type": "markdown",
   "id": "eff41f28",
   "metadata": {},
   "source": [
    "A função summary é simples, mas resume as características dos dados eficientemente e é uma boa primeira vista de qualquer base de dados.\n",
    "\n",
    "---\n",
    "\n",
    "Informações importantes que a função traz para cada coluna numérica:\n",
    "* Intervalos de valores (Valor mínimo e Máximo);\n",
    "    * Também é apresentado o \"comportamento\" de crescimento, com os quantis e a mediana.\n",
    "* Média;\n",
    "* Valores ausentes."
   ]
  },
  {
   "cell_type": "code",
   "execution_count": 11,
   "id": "6fa7ea82",
   "metadata": {
    "vscode": {
     "languageId": "r"
    }
   },
   "outputs": [
    {
     "data": {
      "text/plain": [
       " Distancia_entrega Volume_pacotes   Capacidade_frota Investimento_logistica\n",
       " Min.   :  8.926   Min.   : 50.56   Min.   : 68.53   Min.   : 5.447        \n",
       " 1st Qu.: 41.454   1st Qu.: 75.65   1st Qu.: 81.85   1st Qu.:27.143        \n",
       " Median : 53.427   Median : 80.68   Median : 86.67   Median :34.112        \n",
       " Mean   : 52.836   Mean   : 80.98   Mean   : 86.54   Mean   :34.749        \n",
       " 3rd Qu.: 63.448   3rd Qu.: 86.38   3rd Qu.: 91.00   3rd Qu.:42.474        \n",
       " Max.   :112.060   Max.   :106.66   Max.   :107.88   Max.   :62.487        \n",
       " NA's   :21        NA's   :21       NA's   :21       NA's   :21            \n",
       " Infraestrutura_rodoviaria    Trafego       Tecnologia_rastreamento\n",
       " Length:700                Min.   :-25.38   Length:700             \n",
       " Class :character          1st Qu.: 12.51   Class :character       \n",
       " Mode  :character          Median : 23.74   Mode  :character       \n",
       "                           Mean   : 22.89                          \n",
       "                           3rd Qu.: 33.21                          \n",
       "                           Max.   : 70.17                          \n",
       "                           NA's   :21                              \n",
       " Numero_paradas   Tempo_entrega      \n",
       " Min.   : 10.04   Min.   :-186.6195  \n",
       " 1st Qu.: 45.31   1st Qu.:  -0.9846  \n",
       " Median : 57.92   Median :  37.3942  \n",
       " Mean   : 57.24   Mean   :  39.6285  \n",
       " 3rd Qu.: 68.63   3rd Qu.:  83.1889  \n",
       " Max.   :121.05   Max.   : 232.8086  \n",
       " NA's   :21       NA's   :21         "
      ]
     },
     "metadata": {},
     "output_type": "display_data"
    }
   ],
   "source": [
    "summary(data)"
   ]
  },
  {
   "cell_type": "markdown",
   "id": "dc298ef5",
   "metadata": {},
   "source": [
    "Em relação ao tipo das colunas:\n",
    "\n",
    "<center>\n",
    "  <table>\n",
    "    <tr>\n",
    "      <th>Tipo</th>\n",
    "      <th>Quantidade</th>\n",
    "    </tr>\n",
    "    <tr>\n",
    "      <th>Numérico</th>\n",
    "      <th>7¹</th>\n",
    "    </tr>\n",
    "    <tr>\n",
    "      <th>Textual (Categórico)¹</th>\n",
    "      <th>2</th>\n",
    "    </tr>\n",
    "  </table>\n",
    "</center>\n",
    "\n",
    "¹ A coluna da variável dependente está sendo contada!\n",
    " \n",
    "² Os valores categóricos serão melhores explorados em seções posteriores."
   ]
  },
  {
   "cell_type": "markdown",
   "id": "ad27b549",
   "metadata": {},
   "source": [
    "Dentre os valores numéricos, iremos utilizar a descrição textual da base de dados na tentativa de inferir o impacto de cada uma das colunas na variável dependente (O tempo de entrega):\n",
    "\n",
    "<center>\n",
    "  <table>\n",
    "    <tr>\n",
    "      <th>Coluna</th>\n",
    "      <th>Proporcionalidade</th>\n",
    "      <th>Motivo</th>\n",
    "    </tr>\n",
    "    <tr>\n",
    "      <th>Distância</th>\n",
    "      <th>Diretamente</th>\n",
    "      <th>Quanto maior a distância, a viagem será mais longa.</th>\n",
    "    </tr>\n",
    "    <tr>\n",
    "      <th>Volume</th>\n",
    "      <th>Diretamente</th>\n",
    "      <th>Quanto mais carga, será necessário mais cuidado na direção, causando mais lentidão na viagem.</th>\n",
    "    </tr>\n",
    "    <tr>\n",
    "      <th>Capacidade</th>\n",
    "      <th>Diretamente</th>\n",
    "      <th>Quanto mais carga é possível ser levada, maior será o veículo, sendo necessário mais controle na direção.</th>\n",
    "    </tr>\n",
    "    <tr>\n",
    "      <th>Investimento</th>\n",
    "      <th>Inversamente</th>\n",
    "      <th>Quanto mais planejado o transporte da carga, melhor será a escolha das rotas, dessa forma será mais rápido.</th>\n",
    "    </tr>\n",
    "    <tr>\n",
    "      <th>Tráfego</th>\n",
    "      <th>Diretamente</th>\n",
    "      <th>Maior o trãnsito, mais lenta será a viagem.</th>\n",
    "    </tr>\n",
    "    <tr>\n",
    "      <th>Número de paradas</th>\n",
    "      <th>Diretamente</th>\n",
    "      <th>Quanto mais paradas, mais lento.</th>\n",
    "    </tr>\n",
    "  </table>\n",
    "</center>\n",
    "\n",
    "Vamos testar com a função built-in do R que calcula a correlação linear!"
   ]
  },
  {
   "cell_type": "code",
   "execution_count": 27,
   "id": "32c3ed5a",
   "metadata": {
    "vscode": {
     "languageId": "r"
    }
   },
   "outputs": [
    {
     "data": {
      "text/html": [
       "<table class=\"dataframe\">\n",
       "<caption>A data.frame: 7 × 1</caption>\n",
       "<thead>\n",
       "\t<tr><th></th><th scope=col>Tempo_entrega</th></tr>\n",
       "\t<tr><th></th><th scope=col>&lt;dbl&gt;</th></tr>\n",
       "</thead>\n",
       "<tbody>\n",
       "\t<tr><th scope=row>Distancia_entrega</th><td> 0.45790367</td></tr>\n",
       "\t<tr><th scope=row>Volume_pacotes</th><td>-0.46462788</td></tr>\n",
       "\t<tr><th scope=row>Capacidade_frota</th><td> 0.08503601</td></tr>\n",
       "\t<tr><th scope=row>Investimento_logistica</th><td> 0.18255353</td></tr>\n",
       "\t<tr><th scope=row>Trafego</th><td> 0.70992634</td></tr>\n",
       "\t<tr><th scope=row>Numero_paradas</th><td> 0.45824699</td></tr>\n",
       "\t<tr><th scope=row>Tempo_entrega</th><td> 1.00000000</td></tr>\n",
       "</tbody>\n",
       "</table>\n"
      ],
      "text/latex": [
       "A data.frame: 7 × 1\n",
       "\\begin{tabular}{r|l}\n",
       "  & Tempo\\_entrega\\\\\n",
       "  & <dbl>\\\\\n",
       "\\hline\n",
       "\tDistancia\\_entrega &  0.45790367\\\\\n",
       "\tVolume\\_pacotes & -0.46462788\\\\\n",
       "\tCapacidade\\_frota &  0.08503601\\\\\n",
       "\tInvestimento\\_logistica &  0.18255353\\\\\n",
       "\tTrafego &  0.70992634\\\\\n",
       "\tNumero\\_paradas &  0.45824699\\\\\n",
       "\tTempo\\_entrega &  1.00000000\\\\\n",
       "\\end{tabular}\n"
      ],
      "text/markdown": [
       "\n",
       "A data.frame: 7 × 1\n",
       "\n",
       "| <!--/--> | Tempo_entrega &lt;dbl&gt; |\n",
       "|---|---|\n",
       "| Distancia_entrega |  0.45790367 |\n",
       "| Volume_pacotes | -0.46462788 |\n",
       "| Capacidade_frota |  0.08503601 |\n",
       "| Investimento_logistica |  0.18255353 |\n",
       "| Trafego |  0.70992634 |\n",
       "| Numero_paradas |  0.45824699 |\n",
       "| Tempo_entrega |  1.00000000 |\n",
       "\n"
      ],
      "text/plain": [
       "                       Tempo_entrega\n",
       "Distancia_entrega       0.45790367  \n",
       "Volume_pacotes         -0.46462788  \n",
       "Capacidade_frota        0.08503601  \n",
       "Investimento_logistica  0.18255353  \n",
       "Trafego                 0.70992634  \n",
       "Numero_paradas          0.45824699  \n",
       "Tempo_entrega           1.00000000  "
      ]
     },
     "metadata": {},
     "output_type": "display_data"
    }
   ],
   "source": [
    "correlacao_linear_de_pearson <- as.data.frame(\n",
    "    cor(data_numeric,\n",
    "        method = \"pearson\",\n",
    "        use = \"complete.obs\"))\n",
    "\n",
    "correlacao_tempo <- correlacao_linear_de_pearson[7]\n",
    "\n",
    "correlacao_tempo"
   ]
  },
  {
   "cell_type": "markdown",
   "id": "36405eac",
   "metadata": {},
   "source": [
    "Não vamos nos assustar com esses resultados! Vale lembrar que a correlação linear é calculada considerando apenas a relação das duas variáveis no conjunto de dados, não considerando o relacionamento das mesmas com o resto do conjunto. Um exemplo é que não estamos considerando apenas a distância com o tempo, visto que nos casos que ocorreram altas distâncias, o tráfego poderia ter sido irrisório, vice-versa também podendo ocorrer.\n",
    "\n",
    "O que esses dados mostram, de fato, é que não podemos considerar muitas dessas colunas isoladamente, possívelmente tendo melhores resultados utilizando uma regressão múltipla (mas não vamos nos apressar ainda, iremos analisar melhor o conjunto para ter uma maior profundidade).\n",
    "* O motivo disto, é que informações que obviamente deveriam ser importantes, não estão sendo (pelo menos, não linearmente). Deste modo, temos certeza que ao menos valerá a pena um estudo de regressão em conjunto."
   ]
  },
  {
   "cell_type": "code",
   "execution_count": null,
   "id": "6e7e9755",
   "metadata": {
    "vscode": {
     "languageId": "r"
    }
   },
   "outputs": [],
   "source": []
  }
 ],
 "metadata": {
  "kernelspec": {
   "display_name": "R",
   "language": "R",
   "name": "ir"
  },
  "language_info": {
   "codemirror_mode": "r",
   "file_extension": ".r",
   "mimetype": "text/x-r-source",
   "name": "R",
   "pygments_lexer": "r",
   "version": "4.3.3"
  }
 },
 "nbformat": 4,
 "nbformat_minor": 5
}
